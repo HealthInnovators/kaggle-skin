{
  "metadata": {
    "kernelspec": {
      "display_name": "Python 3",
      "name": "python3"
    },
    "language_info": {
      "name": "python",
      "version": "3.10.13",
      "mimetype": "text/x-python",
      "codemirror_mode": {
        "name": "ipython",
        "version": 3
      },
      "pygments_lexer": "ipython3",
      "nbconvert_exporter": "python",
      "file_extension": ".py"
    },
    "kaggle": {
      "accelerator": "none",
      "dataSources": [
        {
          "sourceId": 63056,
          "databundleVersionId": 9094797,
          "sourceType": "competition"
        },
        {
          "sourceId": 79525,
          "sourceType": "modelInstanceVersion",
          "modelInstanceId": 66812,
          "modelId": 91830
        },
        {
          "sourceId": 85596,
          "sourceType": "modelInstanceVersion",
          "isSourceIdPinned": true,
          "modelInstanceId": 71914,
          "modelId": 96873
        }
      ],
      "dockerImageVersionId": 30746,
      "isInternetEnabled": false,
      "language": "python",
      "sourceType": "notebook",
      "isGpuEnabled": false
    },
    "colab": {
      "provenance": [],
      "gpuType": "T4"
    },
    "accelerator": "GPU"
  },
  "nbformat_minor": 0,
  "nbformat": 4,
  "cells": [
    {
      "cell_type": "code",
      "source": [
        "from google.colab import drive\n",
        "drive.mount('/content/drive')"
      ],
      "metadata": {
        "colab": {
          "base_uri": "https://localhost:8080/"
        },
        "id": "KSpw-AnGt14B",
        "outputId": "463745cc-af08-4b78-cbe3-4d3d4f659fee"
      },
      "execution_count": null,
      "outputs": [
        {
          "output_type": "stream",
          "name": "stdout",
          "text": [
            "Mounted at /content/drive\n"
          ]
        }
      ]
    },
    {
      "cell_type": "code",
      "source": [
        "%cd /content/drive/MyDrive/skin_kaggle\n",
        "!ls"
      ],
      "metadata": {
        "colab": {
          "base_uri": "https://localhost:8080/"
        },
        "id": "Tygst9Jyt60K",
        "outputId": "3932e351-ccbe-41ed-b81c-3ce6a769f8c8"
      },
      "execution_count": null,
      "outputs": [
        {
          "output_type": "stream",
          "name": "stdout",
          "text": [
            "/content/drive/MyDrive/skin_kaggle\n",
            "isic2024\t\t\t\t      kaggle.json     resnet18_test_pred.csv\n",
            "isic-2024-challenge.zip\t\t\t      models\t      resnet18_train_pred.csv\n",
            "Kaggle_ISIC_2024_Skin_Cancer_Detection.ipynb  resnet18.ipynb\n"
          ]
        }
      ]
    },
    {
      "cell_type": "code",
      "source": [
        "!pip install timm"
      ],
      "metadata": {
        "colab": {
          "base_uri": "https://localhost:8080/"
        },
        "id": "NmUMrdi5tWKD",
        "outputId": "06c0fb1c-a96b-4977-dfdd-8d0c2df6846c"
      },
      "execution_count": null,
      "outputs": [
        {
          "output_type": "stream",
          "name": "stdout",
          "text": [
            "Collecting timm\n",
            "  Downloading timm-1.0.9-py3-none-any.whl.metadata (42 kB)\n",
            "\u001b[?25l     \u001b[90m━━━━━━━━━━━━━━━━━━━━━━━━━━━━━━━━━━━━━━━━\u001b[0m \u001b[32m0.0/42.4 kB\u001b[0m \u001b[31m?\u001b[0m eta \u001b[36m-:--:--\u001b[0m\r\u001b[2K     \u001b[90m━━━━━━━━━━━━━━━━━━━━━━━━━━━━━━━━━━━━━━━━\u001b[0m \u001b[32m42.4/42.4 kB\u001b[0m \u001b[31m1.6 MB/s\u001b[0m eta \u001b[36m0:00:00\u001b[0m\n",
            "\u001b[?25hRequirement already satisfied: torch in /usr/local/lib/python3.10/dist-packages (from timm) (2.4.0+cu121)\n",
            "Requirement already satisfied: torchvision in /usr/local/lib/python3.10/dist-packages (from timm) (0.19.0+cu121)\n",
            "Requirement already satisfied: pyyaml in /usr/local/lib/python3.10/dist-packages (from timm) (6.0.2)\n",
            "Requirement already satisfied: huggingface_hub in /usr/local/lib/python3.10/dist-packages (from timm) (0.24.6)\n",
            "Requirement already satisfied: safetensors in /usr/local/lib/python3.10/dist-packages (from timm) (0.4.4)\n",
            "Requirement already satisfied: filelock in /usr/local/lib/python3.10/dist-packages (from huggingface_hub->timm) (3.15.4)\n",
            "Requirement already satisfied: fsspec>=2023.5.0 in /usr/local/lib/python3.10/dist-packages (from huggingface_hub->timm) (2024.6.1)\n",
            "Requirement already satisfied: packaging>=20.9 in /usr/local/lib/python3.10/dist-packages (from huggingface_hub->timm) (24.1)\n",
            "Requirement already satisfied: requests in /usr/local/lib/python3.10/dist-packages (from huggingface_hub->timm) (2.32.3)\n",
            "Requirement already satisfied: tqdm>=4.42.1 in /usr/local/lib/python3.10/dist-packages (from huggingface_hub->timm) (4.66.5)\n",
            "Requirement already satisfied: typing-extensions>=3.7.4.3 in /usr/local/lib/python3.10/dist-packages (from huggingface_hub->timm) (4.12.2)\n",
            "Requirement already satisfied: sympy in /usr/local/lib/python3.10/dist-packages (from torch->timm) (1.13.2)\n",
            "Requirement already satisfied: networkx in /usr/local/lib/python3.10/dist-packages (from torch->timm) (3.3)\n",
            "Requirement already satisfied: jinja2 in /usr/local/lib/python3.10/dist-packages (from torch->timm) (3.1.4)\n",
            "Requirement already satisfied: numpy in /usr/local/lib/python3.10/dist-packages (from torchvision->timm) (1.26.4)\n",
            "Requirement already satisfied: pillow!=8.3.*,>=5.3.0 in /usr/local/lib/python3.10/dist-packages (from torchvision->timm) (9.4.0)\n",
            "Requirement already satisfied: MarkupSafe>=2.0 in /usr/local/lib/python3.10/dist-packages (from jinja2->torch->timm) (2.1.5)\n",
            "Requirement already satisfied: charset-normalizer<4,>=2 in /usr/local/lib/python3.10/dist-packages (from requests->huggingface_hub->timm) (3.3.2)\n",
            "Requirement already satisfied: idna<4,>=2.5 in /usr/local/lib/python3.10/dist-packages (from requests->huggingface_hub->timm) (3.8)\n",
            "Requirement already satisfied: urllib3<3,>=1.21.1 in /usr/local/lib/python3.10/dist-packages (from requests->huggingface_hub->timm) (2.0.7)\n",
            "Requirement already satisfied: certifi>=2017.4.17 in /usr/local/lib/python3.10/dist-packages (from requests->huggingface_hub->timm) (2024.8.30)\n",
            "Requirement already satisfied: mpmath<1.4,>=1.1.0 in /usr/local/lib/python3.10/dist-packages (from sympy->torch->timm) (1.3.0)\n",
            "Downloading timm-1.0.9-py3-none-any.whl (2.3 MB)\n",
            "\u001b[2K   \u001b[90m━━━━━━━━━━━━━━━━━━━━━━━━━━━━━━━━━━━━━━━━\u001b[0m \u001b[32m2.3/2.3 MB\u001b[0m \u001b[31m23.6 MB/s\u001b[0m eta \u001b[36m0:00:00\u001b[0m\n",
            "\u001b[?25hInstalling collected packages: timm\n",
            "Successfully installed timm-1.0.9\n"
          ]
        }
      ]
    },
    {
      "cell_type": "code",
      "source": [
        "import torch\n",
        "import numpy as np\n",
        "import os, io\n",
        "from sklearn.metrics import roc_auc_score\n",
        "import pandas as pd\n",
        "\n",
        "import torch.nn.functional as F\n",
        "from torch import nn\n",
        "from torch.utils.data import DataLoader, Dataset, WeightedRandomSampler\n",
        "from torch.optim import AdamW\n",
        "import timm\n",
        "import sys\n",
        "from tqdm import tqdm\n",
        "\n",
        "from PIL import Image\n",
        "\n",
        "import albumentations as A\n",
        "\n",
        "import math, random\n",
        "import h5py"
      ],
      "metadata": {
        "execution": {
          "iopub.status.busy": "2024-08-05T05:25:27.608659Z",
          "iopub.execute_input": "2024-08-05T05:25:27.608962Z",
          "iopub.status.idle": "2024-08-05T05:25:27.616191Z",
          "shell.execute_reply.started": "2024-08-05T05:25:27.608938Z",
          "shell.execute_reply": "2024-08-05T05:25:27.615265Z"
        },
        "trusted": true,
        "id": "R3pdZXIAs6yx"
      },
      "execution_count": null,
      "outputs": []
    },
    {
      "cell_type": "code",
      "source": [
        "NOT_DEBUG = True # True -> run naormally, False -> debug mode, with lesser computing cost\n",
        "\n",
        "train_data_path = 'isic2024/test-image.hdf5'\n",
        "train_meta_path = 'isic2024/test-metadata.csv'\n",
        "\n",
        "device = 'cuda:0' if torch.cuda.is_available() else 'cpu'\n",
        "N_WORKERS = 32\n",
        "USE_AMP = True\n",
        "SEED = 3407\n",
        "\n",
        "IMG_SIZE = [112, 112]\n",
        "IN_CHANS = 3\n",
        "N_CLASSES = 1\n",
        "\n",
        "AUG_PROB = 0.75\n",
        "\n",
        "N_FOLDS = 5 if NOT_DEBUG else 2\n",
        "EPOCHS = 10 if NOT_DEBUG else 2\n",
        "MODEL_NAME = 'resnet18'\n",
        "\n",
        "GRAD_ACC = 1\n",
        "TGT_BATCH_SIZE = 256\n",
        "BATCH_SIZE = TGT_BATCH_SIZE // GRAD_ACC\n",
        "MAX_GRAD_NORM = None\n",
        "EARLY_STOPPING_EPOCH = 10\n",
        "\n",
        "LR = 2e-4 * TGT_BATCH_SIZE / 32\n",
        "WD = 1e-2\n",
        "AUG = True"
      ],
      "metadata": {
        "execution": {
          "iopub.status.busy": "2024-08-05T05:25:27.626065Z",
          "iopub.execute_input": "2024-08-05T05:25:27.626365Z",
          "iopub.status.idle": "2024-08-05T05:25:27.633434Z",
          "shell.execute_reply.started": "2024-08-05T05:25:27.626342Z",
          "shell.execute_reply": "2024-08-05T05:25:27.632428Z"
        },
        "trusted": true,
        "id": "5d6y31-fs6yy"
      },
      "execution_count": null,
      "outputs": []
    },
    {
      "cell_type": "code",
      "source": [
        "\n",
        "def set_random_seed(seed: int = 3407, deterministic: bool = False):\n",
        "    \"\"\"Set seeds\"\"\"\n",
        "    random.seed(seed)\n",
        "    np.random.seed(seed)\n",
        "    os.environ[\"PYTHONHASHSEED\"] = str(seed)\n",
        "    torch.manual_seed(seed)\n",
        "    torch.cuda.manual_seed(seed)  # type: ignore\n",
        "    torch.backends.cudnn.benchmark = True\n",
        "    torch.backends.cudnn.deterministic = deterministic  # type: ignore\n",
        "\n",
        "set_random_seed(SEED)\n",
        "\n",
        "\n",
        "\n",
        "# image_path = '/kaggle/input/isic-2024-challenge/train-image/image'\n",
        "class ISICDataset(Dataset):\n",
        "    def __init__(self, df, test_hd5, transform=None):\n",
        "        self.df = df\n",
        "        self.transform = transform\n",
        "        self.test_hd5 = h5py.File(test_hd5)\n",
        "\n",
        "        #debug\n",
        "#         self.test_hd5 = h5py.File('/kaggle/input/isic-2024-challenge/train-image.hdf5')\n",
        "#         self.df = pd.read_csv('/kaggle/input/isic-2024-challenge/train-metadata.csv')\n",
        "#         self.df = self.df[self.df['target'] == 1]\n",
        "\n",
        "\n",
        "    def __len__(self):\n",
        "        return len(self.df)\n",
        "\n",
        "    def __getitem__(self, idx):\n",
        "        t = str(self.df.iloc[idx]['isic_id'])\n",
        "        p = self.test_hd5[t][()]\n",
        "        img = Image.open(io.BytesIO(p))\n",
        "        img = img.convert('RGB')\n",
        "        img = np.array(img)\n",
        "        img = (img - img.min()) / (img.max() - img.min() +1e-6) * 255\n",
        "        if self.transform:\n",
        "            img = self.transform(image=img.astype(np.uint8))['image']\n",
        "        return t, img.transpose(2, 0, 1)"
      ],
      "metadata": {
        "execution": {
          "iopub.status.busy": "2024-08-05T05:25:27.636589Z",
          "iopub.execute_input": "2024-08-05T05:25:27.636854Z",
          "iopub.status.idle": "2024-08-05T05:25:27.647781Z",
          "shell.execute_reply.started": "2024-08-05T05:25:27.636831Z",
          "shell.execute_reply": "2024-08-05T05:25:27.646829Z"
        },
        "trusted": true,
        "id": "H42PMeo2s6yy"
      },
      "execution_count": null,
      "outputs": []
    },
    {
      "cell_type": "code",
      "source": [
        "transforms_val = A.Compose([\n",
        "    A.Resize(IMG_SIZE[0], IMG_SIZE[1]),\n",
        "    A.Normalize(mean=0.5, std=0.5)\n",
        "])"
      ],
      "metadata": {
        "execution": {
          "iopub.status.busy": "2024-08-05T05:25:27.691444Z",
          "iopub.execute_input": "2024-08-05T05:25:27.691689Z",
          "iopub.status.idle": "2024-08-05T05:25:27.696366Z",
          "shell.execute_reply.started": "2024-08-05T05:25:27.691668Z",
          "shell.execute_reply": "2024-08-05T05:25:27.695433Z"
        },
        "trusted": true,
        "id": "ic5Y0Nk7s6yy"
      },
      "execution_count": null,
      "outputs": []
    },
    {
      "cell_type": "code",
      "source": [
        "class ISICModel(nn.Module):\n",
        "    def __init__(self, model_name, in_c=30, n_classes=75, pretrained=True, features_only=False):\n",
        "        super().__init__()\n",
        "        self.model = timm.create_model(\n",
        "                                    model_name,\n",
        "                                    pretrained=pretrained,\n",
        "                                    features_only=features_only,\n",
        "                                    in_chans=in_c,\n",
        "                                    num_classes=n_classes,\n",
        "                                    global_pool='avg',\n",
        "                                    # pretrained_cfg_overlay=dict(file='/home/pretrain/440605cf-77e5-4658-b573-08a9dbebe1f0'),\n",
        "                                    )\n",
        "\n",
        "    def forward(self, x):\n",
        "        x = self.model(x)\n",
        "        y = torch.sigmoid(x)\n",
        "        return y"
      ],
      "metadata": {
        "execution": {
          "iopub.status.busy": "2024-08-05T05:25:27.698402Z",
          "iopub.execute_input": "2024-08-05T05:25:27.699364Z",
          "iopub.status.idle": "2024-08-05T05:25:27.706048Z",
          "shell.execute_reply.started": "2024-08-05T05:25:27.699332Z",
          "shell.execute_reply": "2024-08-05T05:25:27.705208Z"
        },
        "trusted": true,
        "id": "2R8bxVTAs6yy"
      },
      "execution_count": null,
      "outputs": []
    },
    {
      "cell_type": "code",
      "source": [
        "import glob\n",
        "\n",
        "# checkpoints = glob.glob('/kaggle/input/resnet18/pytorch/resnet18/1/resnet18_baseline_112/*.pt')\n",
        "\n",
        "checkpoints = ['/content/drive/MyDrive/skin_kaggle/models/best_val_model_fold-4.pt']"
      ],
      "metadata": {
        "execution": {
          "iopub.status.busy": "2024-08-05T05:25:27.731782Z",
          "iopub.execute_input": "2024-08-05T05:25:27.732042Z",
          "iopub.status.idle": "2024-08-05T05:25:27.736697Z",
          "shell.execute_reply.started": "2024-08-05T05:25:27.732020Z",
          "shell.execute_reply": "2024-08-05T05:25:27.735844Z"
        },
        "trusted": true,
        "id": "hIlFwJZSs6yz"
      },
      "execution_count": null,
      "outputs": []
    },
    {
      "cell_type": "code",
      "source": [
        "models = []\n",
        "for c in checkpoints:\n",
        "    model = ISICModel(MODEL_NAME, in_c=IN_CHANS, n_classes=N_CLASSES, pretrained=False)\n",
        "    print(model)\n",
        "    model.load_state_dict(torch.load(c))\n",
        "    model.eval()\n",
        "    model.half()\n",
        "    model.to(device)\n",
        "    models.append(model)"
      ],
      "metadata": {
        "execution": {
          "iopub.status.busy": "2024-08-05T05:25:27.865278Z",
          "iopub.execute_input": "2024-08-05T05:25:27.865606Z",
          "iopub.status.idle": "2024-08-05T05:25:29.314378Z",
          "shell.execute_reply.started": "2024-08-05T05:25:27.865574Z",
          "shell.execute_reply": "2024-08-05T05:25:29.313262Z"
        },
        "trusted": true,
        "colab": {
          "base_uri": "https://localhost:8080/"
        },
        "id": "VazF1FARs6yz",
        "outputId": "821a33c8-ecb1-4a3b-df71-07da6dcefbad"
      },
      "execution_count": null,
      "outputs": [
        {
          "output_type": "stream",
          "name": "stdout",
          "text": [
            "ISICModel(\n",
            "  (model): ResNet(\n",
            "    (conv1): Conv2d(3, 64, kernel_size=(7, 7), stride=(2, 2), padding=(3, 3), bias=False)\n",
            "    (bn1): BatchNorm2d(64, eps=1e-05, momentum=0.1, affine=True, track_running_stats=True)\n",
            "    (act1): ReLU(inplace=True)\n",
            "    (maxpool): MaxPool2d(kernel_size=3, stride=2, padding=1, dilation=1, ceil_mode=False)\n",
            "    (layer1): Sequential(\n",
            "      (0): BasicBlock(\n",
            "        (conv1): Conv2d(64, 64, kernel_size=(3, 3), stride=(1, 1), padding=(1, 1), bias=False)\n",
            "        (bn1): BatchNorm2d(64, eps=1e-05, momentum=0.1, affine=True, track_running_stats=True)\n",
            "        (drop_block): Identity()\n",
            "        (act1): ReLU(inplace=True)\n",
            "        (aa): Identity()\n",
            "        (conv2): Conv2d(64, 64, kernel_size=(3, 3), stride=(1, 1), padding=(1, 1), bias=False)\n",
            "        (bn2): BatchNorm2d(64, eps=1e-05, momentum=0.1, affine=True, track_running_stats=True)\n",
            "        (act2): ReLU(inplace=True)\n",
            "      )\n",
            "      (1): BasicBlock(\n",
            "        (conv1): Conv2d(64, 64, kernel_size=(3, 3), stride=(1, 1), padding=(1, 1), bias=False)\n",
            "        (bn1): BatchNorm2d(64, eps=1e-05, momentum=0.1, affine=True, track_running_stats=True)\n",
            "        (drop_block): Identity()\n",
            "        (act1): ReLU(inplace=True)\n",
            "        (aa): Identity()\n",
            "        (conv2): Conv2d(64, 64, kernel_size=(3, 3), stride=(1, 1), padding=(1, 1), bias=False)\n",
            "        (bn2): BatchNorm2d(64, eps=1e-05, momentum=0.1, affine=True, track_running_stats=True)\n",
            "        (act2): ReLU(inplace=True)\n",
            "      )\n",
            "    )\n",
            "    (layer2): Sequential(\n",
            "      (0): BasicBlock(\n",
            "        (conv1): Conv2d(64, 128, kernel_size=(3, 3), stride=(2, 2), padding=(1, 1), bias=False)\n",
            "        (bn1): BatchNorm2d(128, eps=1e-05, momentum=0.1, affine=True, track_running_stats=True)\n",
            "        (drop_block): Identity()\n",
            "        (act1): ReLU(inplace=True)\n",
            "        (aa): Identity()\n",
            "        (conv2): Conv2d(128, 128, kernel_size=(3, 3), stride=(1, 1), padding=(1, 1), bias=False)\n",
            "        (bn2): BatchNorm2d(128, eps=1e-05, momentum=0.1, affine=True, track_running_stats=True)\n",
            "        (act2): ReLU(inplace=True)\n",
            "        (downsample): Sequential(\n",
            "          (0): Conv2d(64, 128, kernel_size=(1, 1), stride=(2, 2), bias=False)\n",
            "          (1): BatchNorm2d(128, eps=1e-05, momentum=0.1, affine=True, track_running_stats=True)\n",
            "        )\n",
            "      )\n",
            "      (1): BasicBlock(\n",
            "        (conv1): Conv2d(128, 128, kernel_size=(3, 3), stride=(1, 1), padding=(1, 1), bias=False)\n",
            "        (bn1): BatchNorm2d(128, eps=1e-05, momentum=0.1, affine=True, track_running_stats=True)\n",
            "        (drop_block): Identity()\n",
            "        (act1): ReLU(inplace=True)\n",
            "        (aa): Identity()\n",
            "        (conv2): Conv2d(128, 128, kernel_size=(3, 3), stride=(1, 1), padding=(1, 1), bias=False)\n",
            "        (bn2): BatchNorm2d(128, eps=1e-05, momentum=0.1, affine=True, track_running_stats=True)\n",
            "        (act2): ReLU(inplace=True)\n",
            "      )\n",
            "    )\n",
            "    (layer3): Sequential(\n",
            "      (0): BasicBlock(\n",
            "        (conv1): Conv2d(128, 256, kernel_size=(3, 3), stride=(2, 2), padding=(1, 1), bias=False)\n",
            "        (bn1): BatchNorm2d(256, eps=1e-05, momentum=0.1, affine=True, track_running_stats=True)\n",
            "        (drop_block): Identity()\n",
            "        (act1): ReLU(inplace=True)\n",
            "        (aa): Identity()\n",
            "        (conv2): Conv2d(256, 256, kernel_size=(3, 3), stride=(1, 1), padding=(1, 1), bias=False)\n",
            "        (bn2): BatchNorm2d(256, eps=1e-05, momentum=0.1, affine=True, track_running_stats=True)\n",
            "        (act2): ReLU(inplace=True)\n",
            "        (downsample): Sequential(\n",
            "          (0): Conv2d(128, 256, kernel_size=(1, 1), stride=(2, 2), bias=False)\n",
            "          (1): BatchNorm2d(256, eps=1e-05, momentum=0.1, affine=True, track_running_stats=True)\n",
            "        )\n",
            "      )\n",
            "      (1): BasicBlock(\n",
            "        (conv1): Conv2d(256, 256, kernel_size=(3, 3), stride=(1, 1), padding=(1, 1), bias=False)\n",
            "        (bn1): BatchNorm2d(256, eps=1e-05, momentum=0.1, affine=True, track_running_stats=True)\n",
            "        (drop_block): Identity()\n",
            "        (act1): ReLU(inplace=True)\n",
            "        (aa): Identity()\n",
            "        (conv2): Conv2d(256, 256, kernel_size=(3, 3), stride=(1, 1), padding=(1, 1), bias=False)\n",
            "        (bn2): BatchNorm2d(256, eps=1e-05, momentum=0.1, affine=True, track_running_stats=True)\n",
            "        (act2): ReLU(inplace=True)\n",
            "      )\n",
            "    )\n",
            "    (layer4): Sequential(\n",
            "      (0): BasicBlock(\n",
            "        (conv1): Conv2d(256, 512, kernel_size=(3, 3), stride=(2, 2), padding=(1, 1), bias=False)\n",
            "        (bn1): BatchNorm2d(512, eps=1e-05, momentum=0.1, affine=True, track_running_stats=True)\n",
            "        (drop_block): Identity()\n",
            "        (act1): ReLU(inplace=True)\n",
            "        (aa): Identity()\n",
            "        (conv2): Conv2d(512, 512, kernel_size=(3, 3), stride=(1, 1), padding=(1, 1), bias=False)\n",
            "        (bn2): BatchNorm2d(512, eps=1e-05, momentum=0.1, affine=True, track_running_stats=True)\n",
            "        (act2): ReLU(inplace=True)\n",
            "        (downsample): Sequential(\n",
            "          (0): Conv2d(256, 512, kernel_size=(1, 1), stride=(2, 2), bias=False)\n",
            "          (1): BatchNorm2d(512, eps=1e-05, momentum=0.1, affine=True, track_running_stats=True)\n",
            "        )\n",
            "      )\n",
            "      (1): BasicBlock(\n",
            "        (conv1): Conv2d(512, 512, kernel_size=(3, 3), stride=(1, 1), padding=(1, 1), bias=False)\n",
            "        (bn1): BatchNorm2d(512, eps=1e-05, momentum=0.1, affine=True, track_running_stats=True)\n",
            "        (drop_block): Identity()\n",
            "        (act1): ReLU(inplace=True)\n",
            "        (aa): Identity()\n",
            "        (conv2): Conv2d(512, 512, kernel_size=(3, 3), stride=(1, 1), padding=(1, 1), bias=False)\n",
            "        (bn2): BatchNorm2d(512, eps=1e-05, momentum=0.1, affine=True, track_running_stats=True)\n",
            "        (act2): ReLU(inplace=True)\n",
            "      )\n",
            "    )\n",
            "    (global_pool): SelectAdaptivePool2d(pool_type=avg, flatten=Flatten(start_dim=1, end_dim=-1))\n",
            "    (fc): Linear(in_features=512, out_features=1, bias=True)\n",
            "  )\n",
            ")\n"
          ]
        },
        {
          "output_type": "stream",
          "name": "stderr",
          "text": [
            "<ipython-input-12-1a9f7d4ced42>:5: FutureWarning: You are using `torch.load` with `weights_only=False` (the current default value), which uses the default pickle module implicitly. It is possible to construct malicious pickle data which will execute arbitrary code during unpickling (See https://github.com/pytorch/pytorch/blob/main/SECURITY.md#untrusted-models for more details). In a future release, the default value for `weights_only` will be flipped to `True`. This limits the functions that could be executed during unpickling. Arbitrary objects will no longer be allowed to be loaded via this mode unless they are explicitly allowlisted by the user via `torch.serialization.add_safe_globals`. We recommend you start setting `weights_only=True` for any use case where you don't have full control of the loaded file. Please open an issue on GitHub for any issues related to this experimental feature.\n",
            "  model.load_state_dict(torch.load(c, map_location=torch.device('cpu')))\n"
          ]
        }
      ]
    },
    {
      "cell_type": "code",
      "source": [
        "train_df = pd.read_csv(train_meta_path)\n",
        "train_hd5 = train_data_path\n",
        "train_ds = ISICDataset(train_df, test_hd5=train_hd5, transform=transforms_val)\n",
        "train_dl = DataLoader(\n",
        "            train_ds,\n",
        "            batch_size=256,\n",
        "            shuffle=False,\n",
        "            pin_memory=True,\n",
        "            drop_last=False,\n",
        "            num_workers=N_WORKERS\n",
        "            )"
      ],
      "metadata": {
        "execution": {
          "iopub.status.busy": "2024-08-05T05:25:29.316398Z",
          "iopub.execute_input": "2024-08-05T05:25:29.316986Z",
          "iopub.status.idle": "2024-08-05T05:25:29.330287Z",
          "shell.execute_reply.started": "2024-08-05T05:25:29.316951Z",
          "shell.execute_reply": "2024-08-05T05:25:29.329337Z"
        },
        "trusted": true,
        "colab": {
          "base_uri": "https://localhost:8080/"
        },
        "id": "qZCtqIl_s6yz",
        "outputId": "7b14748a-8140-4a85-e994-eaa320a3bd5d"
      },
      "execution_count": null,
      "outputs": [
        {
          "output_type": "stream",
          "name": "stderr",
          "text": [
            "/usr/local/lib/python3.10/dist-packages/torch/utils/data/dataloader.py:557: UserWarning: This DataLoader will create 32 worker processes in total. Our suggested max number of worker in current system is 2, which is smaller than what this DataLoader is going to create. Please be aware that excessive worker creation might get DataLoader running slow or even freeze, lower the worker number to avoid potential slowness/freeze if necessary.\n",
            "  warnings.warn(_create_warning_msg(\n"
          ]
        }
      ]
    },
    {
      "cell_type": "code",
      "source": [
        "autocast = torch.cuda.amp.autocast(enabled=USE_AMP, dtype=torch.half)\n",
        "y_preds = []\n",
        "y_names = []\n",
        "\n",
        "with tqdm(train_dl, leave=True) as pbar:\n",
        "    with torch.no_grad():\n",
        "        for idx, (names, imgs) in enumerate(pbar):\n",
        "            x = imgs\n",
        "            x = x.to(device)\n",
        "            pred_batch = []\n",
        "            with autocast:\n",
        "                for m in models:\n",
        "                    y_i = m(x).flatten()\n",
        "                    y_i = y_i.reshape(-1,1).cpu().numpy() #(-1)\n",
        "#                     y_i = y_i.tolist()\n",
        "                    pred_batch.append(y_i)\n",
        "#                     pred_batch += y_i/len(models)\n",
        "                pred_batch = np.concatenate(pred_batch, axis=1)\n",
        "                pred_batch = np.max(pred_batch, axis=1, keepdims=False)\n",
        "                y_preds.extend(pred_batch.tolist())\n",
        "                for i in range(len(names)):\n",
        "                    y_names.append(names[i])\n",
        "\n",
        "# # submission_df.to_csv(\"/kaggle/input/resnet18/pytorch/resnet18/1/resnet18_baseline_112/resnet18_pred.csv\", index=False)\n"
      ],
      "metadata": {
        "execution": {
          "iopub.status.busy": "2024-08-05T05:25:29.338340Z",
          "iopub.execute_input": "2024-08-05T05:25:29.338603Z",
          "iopub.status.idle": "2024-08-05T05:25:31.433334Z",
          "shell.execute_reply.started": "2024-08-05T05:25:29.338576Z",
          "shell.execute_reply": "2024-08-05T05:25:31.432142Z"
        },
        "trusted": true,
        "id": "LDJtPBBls6yz"
      },
      "execution_count": null,
      "outputs": []
    },
    {
      "cell_type": "code",
      "source": [
        "test_resnet_18_df = pd.DataFrame({'isic_id':y_names, 'resnet_18_pred':y_preds})"
      ],
      "metadata": {
        "execution": {
          "iopub.status.busy": "2024-08-05T05:25:31.435170Z",
          "iopub.execute_input": "2024-08-05T05:25:31.436032Z",
          "iopub.status.idle": "2024-08-05T05:25:31.441869Z",
          "shell.execute_reply.started": "2024-08-05T05:25:31.435988Z",
          "shell.execute_reply": "2024-08-05T05:25:31.440875Z"
        },
        "trusted": true,
        "id": "kp2Ky717s6yz"
      },
      "execution_count": null,
      "outputs": []
    },
    {
      "cell_type": "code",
      "source": [
        "display(test_resnet_18_df)"
      ],
      "metadata": {
        "colab": {
          "base_uri": "https://localhost:8080/",
          "height": 143
        },
        "id": "nAi-Q9OO344_",
        "outputId": "59644062-ab09-4c91-e4cf-5110dac1b3c2"
      },
      "execution_count": null,
      "outputs": [
        {
          "output_type": "display_data",
          "data": {
            "text/plain": [
              "        isic_id  resnet_18_pred\n",
              "0  ISIC_0015657        0.105774\n",
              "1  ISIC_0015729        0.026764\n",
              "2  ISIC_0015740        0.041077"
            ],
            "text/html": [
              "\n",
              "  <div id=\"df-e1391106-dd9b-4713-90f2-a0083fc010dc\" class=\"colab-df-container\">\n",
              "    <div>\n",
              "<style scoped>\n",
              "    .dataframe tbody tr th:only-of-type {\n",
              "        vertical-align: middle;\n",
              "    }\n",
              "\n",
              "    .dataframe tbody tr th {\n",
              "        vertical-align: top;\n",
              "    }\n",
              "\n",
              "    .dataframe thead th {\n",
              "        text-align: right;\n",
              "    }\n",
              "</style>\n",
              "<table border=\"1\" class=\"dataframe\">\n",
              "  <thead>\n",
              "    <tr style=\"text-align: right;\">\n",
              "      <th></th>\n",
              "      <th>isic_id</th>\n",
              "      <th>resnet_18_pred</th>\n",
              "    </tr>\n",
              "  </thead>\n",
              "  <tbody>\n",
              "    <tr>\n",
              "      <th>0</th>\n",
              "      <td>ISIC_0015657</td>\n",
              "      <td>0.105774</td>\n",
              "    </tr>\n",
              "    <tr>\n",
              "      <th>1</th>\n",
              "      <td>ISIC_0015729</td>\n",
              "      <td>0.026764</td>\n",
              "    </tr>\n",
              "    <tr>\n",
              "      <th>2</th>\n",
              "      <td>ISIC_0015740</td>\n",
              "      <td>0.041077</td>\n",
              "    </tr>\n",
              "  </tbody>\n",
              "</table>\n",
              "</div>\n",
              "    <div class=\"colab-df-buttons\">\n",
              "\n",
              "  <div class=\"colab-df-container\">\n",
              "    <button class=\"colab-df-convert\" onclick=\"convertToInteractive('df-e1391106-dd9b-4713-90f2-a0083fc010dc')\"\n",
              "            title=\"Convert this dataframe to an interactive table.\"\n",
              "            style=\"display:none;\">\n",
              "\n",
              "  <svg xmlns=\"http://www.w3.org/2000/svg\" height=\"24px\" viewBox=\"0 -960 960 960\">\n",
              "    <path d=\"M120-120v-720h720v720H120Zm60-500h600v-160H180v160Zm220 220h160v-160H400v160Zm0 220h160v-160H400v160ZM180-400h160v-160H180v160Zm440 0h160v-160H620v160ZM180-180h160v-160H180v160Zm440 0h160v-160H620v160Z\"/>\n",
              "  </svg>\n",
              "    </button>\n",
              "\n",
              "  <style>\n",
              "    .colab-df-container {\n",
              "      display:flex;\n",
              "      gap: 12px;\n",
              "    }\n",
              "\n",
              "    .colab-df-convert {\n",
              "      background-color: #E8F0FE;\n",
              "      border: none;\n",
              "      border-radius: 50%;\n",
              "      cursor: pointer;\n",
              "      display: none;\n",
              "      fill: #1967D2;\n",
              "      height: 32px;\n",
              "      padding: 0 0 0 0;\n",
              "      width: 32px;\n",
              "    }\n",
              "\n",
              "    .colab-df-convert:hover {\n",
              "      background-color: #E2EBFA;\n",
              "      box-shadow: 0px 1px 2px rgba(60, 64, 67, 0.3), 0px 1px 3px 1px rgba(60, 64, 67, 0.15);\n",
              "      fill: #174EA6;\n",
              "    }\n",
              "\n",
              "    .colab-df-buttons div {\n",
              "      margin-bottom: 4px;\n",
              "    }\n",
              "\n",
              "    [theme=dark] .colab-df-convert {\n",
              "      background-color: #3B4455;\n",
              "      fill: #D2E3FC;\n",
              "    }\n",
              "\n",
              "    [theme=dark] .colab-df-convert:hover {\n",
              "      background-color: #434B5C;\n",
              "      box-shadow: 0px 1px 3px 1px rgba(0, 0, 0, 0.15);\n",
              "      filter: drop-shadow(0px 1px 2px rgba(0, 0, 0, 0.3));\n",
              "      fill: #FFFFFF;\n",
              "    }\n",
              "  </style>\n",
              "\n",
              "    <script>\n",
              "      const buttonEl =\n",
              "        document.querySelector('#df-e1391106-dd9b-4713-90f2-a0083fc010dc button.colab-df-convert');\n",
              "      buttonEl.style.display =\n",
              "        google.colab.kernel.accessAllowed ? 'block' : 'none';\n",
              "\n",
              "      async function convertToInteractive(key) {\n",
              "        const element = document.querySelector('#df-e1391106-dd9b-4713-90f2-a0083fc010dc');\n",
              "        const dataTable =\n",
              "          await google.colab.kernel.invokeFunction('convertToInteractive',\n",
              "                                                    [key], {});\n",
              "        if (!dataTable) return;\n",
              "\n",
              "        const docLinkHtml = 'Like what you see? Visit the ' +\n",
              "          '<a target=\"_blank\" href=https://colab.research.google.com/notebooks/data_table.ipynb>data table notebook</a>'\n",
              "          + ' to learn more about interactive tables.';\n",
              "        element.innerHTML = '';\n",
              "        dataTable['output_type'] = 'display_data';\n",
              "        await google.colab.output.renderOutput(dataTable, element);\n",
              "        const docLink = document.createElement('div');\n",
              "        docLink.innerHTML = docLinkHtml;\n",
              "        element.appendChild(docLink);\n",
              "      }\n",
              "    </script>\n",
              "  </div>\n",
              "\n",
              "\n",
              "<div id=\"df-393f2407-c671-40f7-941a-1b926b72f984\">\n",
              "  <button class=\"colab-df-quickchart\" onclick=\"quickchart('df-393f2407-c671-40f7-941a-1b926b72f984')\"\n",
              "            title=\"Suggest charts\"\n",
              "            style=\"display:none;\">\n",
              "\n",
              "<svg xmlns=\"http://www.w3.org/2000/svg\" height=\"24px\"viewBox=\"0 0 24 24\"\n",
              "     width=\"24px\">\n",
              "    <g>\n",
              "        <path d=\"M19 3H5c-1.1 0-2 .9-2 2v14c0 1.1.9 2 2 2h14c1.1 0 2-.9 2-2V5c0-1.1-.9-2-2-2zM9 17H7v-7h2v7zm4 0h-2V7h2v10zm4 0h-2v-4h2v4z\"/>\n",
              "    </g>\n",
              "</svg>\n",
              "  </button>\n",
              "\n",
              "<style>\n",
              "  .colab-df-quickchart {\n",
              "      --bg-color: #E8F0FE;\n",
              "      --fill-color: #1967D2;\n",
              "      --hover-bg-color: #E2EBFA;\n",
              "      --hover-fill-color: #174EA6;\n",
              "      --disabled-fill-color: #AAA;\n",
              "      --disabled-bg-color: #DDD;\n",
              "  }\n",
              "\n",
              "  [theme=dark] .colab-df-quickchart {\n",
              "      --bg-color: #3B4455;\n",
              "      --fill-color: #D2E3FC;\n",
              "      --hover-bg-color: #434B5C;\n",
              "      --hover-fill-color: #FFFFFF;\n",
              "      --disabled-bg-color: #3B4455;\n",
              "      --disabled-fill-color: #666;\n",
              "  }\n",
              "\n",
              "  .colab-df-quickchart {\n",
              "    background-color: var(--bg-color);\n",
              "    border: none;\n",
              "    border-radius: 50%;\n",
              "    cursor: pointer;\n",
              "    display: none;\n",
              "    fill: var(--fill-color);\n",
              "    height: 32px;\n",
              "    padding: 0;\n",
              "    width: 32px;\n",
              "  }\n",
              "\n",
              "  .colab-df-quickchart:hover {\n",
              "    background-color: var(--hover-bg-color);\n",
              "    box-shadow: 0 1px 2px rgba(60, 64, 67, 0.3), 0 1px 3px 1px rgba(60, 64, 67, 0.15);\n",
              "    fill: var(--button-hover-fill-color);\n",
              "  }\n",
              "\n",
              "  .colab-df-quickchart-complete:disabled,\n",
              "  .colab-df-quickchart-complete:disabled:hover {\n",
              "    background-color: var(--disabled-bg-color);\n",
              "    fill: var(--disabled-fill-color);\n",
              "    box-shadow: none;\n",
              "  }\n",
              "\n",
              "  .colab-df-spinner {\n",
              "    border: 2px solid var(--fill-color);\n",
              "    border-color: transparent;\n",
              "    border-bottom-color: var(--fill-color);\n",
              "    animation:\n",
              "      spin 1s steps(1) infinite;\n",
              "  }\n",
              "\n",
              "  @keyframes spin {\n",
              "    0% {\n",
              "      border-color: transparent;\n",
              "      border-bottom-color: var(--fill-color);\n",
              "      border-left-color: var(--fill-color);\n",
              "    }\n",
              "    20% {\n",
              "      border-color: transparent;\n",
              "      border-left-color: var(--fill-color);\n",
              "      border-top-color: var(--fill-color);\n",
              "    }\n",
              "    30% {\n",
              "      border-color: transparent;\n",
              "      border-left-color: var(--fill-color);\n",
              "      border-top-color: var(--fill-color);\n",
              "      border-right-color: var(--fill-color);\n",
              "    }\n",
              "    40% {\n",
              "      border-color: transparent;\n",
              "      border-right-color: var(--fill-color);\n",
              "      border-top-color: var(--fill-color);\n",
              "    }\n",
              "    60% {\n",
              "      border-color: transparent;\n",
              "      border-right-color: var(--fill-color);\n",
              "    }\n",
              "    80% {\n",
              "      border-color: transparent;\n",
              "      border-right-color: var(--fill-color);\n",
              "      border-bottom-color: var(--fill-color);\n",
              "    }\n",
              "    90% {\n",
              "      border-color: transparent;\n",
              "      border-bottom-color: var(--fill-color);\n",
              "    }\n",
              "  }\n",
              "</style>\n",
              "\n",
              "  <script>\n",
              "    async function quickchart(key) {\n",
              "      const quickchartButtonEl =\n",
              "        document.querySelector('#' + key + ' button');\n",
              "      quickchartButtonEl.disabled = true;  // To prevent multiple clicks.\n",
              "      quickchartButtonEl.classList.add('colab-df-spinner');\n",
              "      try {\n",
              "        const charts = await google.colab.kernel.invokeFunction(\n",
              "            'suggestCharts', [key], {});\n",
              "      } catch (error) {\n",
              "        console.error('Error during call to suggestCharts:', error);\n",
              "      }\n",
              "      quickchartButtonEl.classList.remove('colab-df-spinner');\n",
              "      quickchartButtonEl.classList.add('colab-df-quickchart-complete');\n",
              "    }\n",
              "    (() => {\n",
              "      let quickchartButtonEl =\n",
              "        document.querySelector('#df-393f2407-c671-40f7-941a-1b926b72f984 button');\n",
              "      quickchartButtonEl.style.display =\n",
              "        google.colab.kernel.accessAllowed ? 'block' : 'none';\n",
              "    })();\n",
              "  </script>\n",
              "</div>\n",
              "\n",
              "  <div id=\"id_d0e2bac7-ccba-4bf3-99c3-973d9eee6fb9\">\n",
              "    <style>\n",
              "      .colab-df-generate {\n",
              "        background-color: #E8F0FE;\n",
              "        border: none;\n",
              "        border-radius: 50%;\n",
              "        cursor: pointer;\n",
              "        display: none;\n",
              "        fill: #1967D2;\n",
              "        height: 32px;\n",
              "        padding: 0 0 0 0;\n",
              "        width: 32px;\n",
              "      }\n",
              "\n",
              "      .colab-df-generate:hover {\n",
              "        background-color: #E2EBFA;\n",
              "        box-shadow: 0px 1px 2px rgba(60, 64, 67, 0.3), 0px 1px 3px 1px rgba(60, 64, 67, 0.15);\n",
              "        fill: #174EA6;\n",
              "      }\n",
              "\n",
              "      [theme=dark] .colab-df-generate {\n",
              "        background-color: #3B4455;\n",
              "        fill: #D2E3FC;\n",
              "      }\n",
              "\n",
              "      [theme=dark] .colab-df-generate:hover {\n",
              "        background-color: #434B5C;\n",
              "        box-shadow: 0px 1px 3px 1px rgba(0, 0, 0, 0.15);\n",
              "        filter: drop-shadow(0px 1px 2px rgba(0, 0, 0, 0.3));\n",
              "        fill: #FFFFFF;\n",
              "      }\n",
              "    </style>\n",
              "    <button class=\"colab-df-generate\" onclick=\"generateWithVariable('test_resnet_18_df')\"\n",
              "            title=\"Generate code using this dataframe.\"\n",
              "            style=\"display:none;\">\n",
              "\n",
              "  <svg xmlns=\"http://www.w3.org/2000/svg\" height=\"24px\"viewBox=\"0 0 24 24\"\n",
              "       width=\"24px\">\n",
              "    <path d=\"M7,19H8.4L18.45,9,17,7.55,7,17.6ZM5,21V16.75L18.45,3.32a2,2,0,0,1,2.83,0l1.4,1.43a1.91,1.91,0,0,1,.58,1.4,1.91,1.91,0,0,1-.58,1.4L9.25,21ZM18.45,9,17,7.55Zm-12,3A5.31,5.31,0,0,0,4.9,8.1,5.31,5.31,0,0,0,1,6.5,5.31,5.31,0,0,0,4.9,4.9,5.31,5.31,0,0,0,6.5,1,5.31,5.31,0,0,0,8.1,4.9,5.31,5.31,0,0,0,12,6.5,5.46,5.46,0,0,0,6.5,12Z\"/>\n",
              "  </svg>\n",
              "    </button>\n",
              "    <script>\n",
              "      (() => {\n",
              "      const buttonEl =\n",
              "        document.querySelector('#id_d0e2bac7-ccba-4bf3-99c3-973d9eee6fb9 button.colab-df-generate');\n",
              "      buttonEl.style.display =\n",
              "        google.colab.kernel.accessAllowed ? 'block' : 'none';\n",
              "\n",
              "      buttonEl.onclick = () => {\n",
              "        google.colab.notebook.generateWithVariable('test_resnet_18_df');\n",
              "      }\n",
              "      })();\n",
              "    </script>\n",
              "  </div>\n",
              "\n",
              "    </div>\n",
              "  </div>\n"
            ],
            "application/vnd.google.colaboratory.intrinsic+json": {
              "type": "dataframe",
              "variable_name": "test_resnet_18_df",
              "summary": "{\n  \"name\": \"test_resnet_18_df\",\n  \"rows\": 3,\n  \"fields\": [\n    {\n      \"column\": \"isic_id\",\n      \"properties\": {\n        \"dtype\": \"string\",\n        \"num_unique_values\": 3,\n        \"samples\": [\n          \"ISIC_0015657\",\n          \"ISIC_0015729\",\n          \"ISIC_0015740\"\n        ],\n        \"semantic_type\": \"\",\n        \"description\": \"\"\n      }\n    },\n    {\n      \"column\": \"resnet_18_pred\",\n      \"properties\": {\n        \"dtype\": \"number\",\n        \"std\": 0.04209745136258441,\n        \"min\": 0.026763916015625,\n        \"max\": 0.10577392578125,\n        \"num_unique_values\": 3,\n        \"samples\": [\n          0.10577392578125,\n          0.026763916015625,\n          0.04107666015625\n        ],\n        \"semantic_type\": \"\",\n        \"description\": \"\"\n      }\n    }\n  ]\n}"
            }
          },
          "metadata": {}
        }
      ]
    },
    {
      "cell_type": "code",
      "source": [
        "test_resnet_18_df.to_csv(\"resnet18_test_pred.csv\", index=False)"
      ],
      "metadata": {
        "execution": {
          "iopub.status.busy": "2024-08-05T05:25:31.443294Z",
          "iopub.execute_input": "2024-08-05T05:25:31.443694Z",
          "iopub.status.idle": "2024-08-05T05:25:31.450873Z",
          "shell.execute_reply.started": "2024-08-05T05:25:31.443658Z",
          "shell.execute_reply": "2024-08-05T05:25:31.449956Z"
        },
        "trusted": true,
        "id": "ERPl2CFRs6yz"
      },
      "execution_count": null,
      "outputs": []
    },
    {
      "cell_type": "markdown",
      "source": [
        "## Logic: use Resnet predicted logits as a feature in addition to tabular data to train a LGBM"
      ],
      "metadata": {
        "id": "Es63ZDjZR5L1"
      }
    },
    {
      "cell_type": "code",
      "source": [
        "import numpy as np\n",
        "import polars as pl\n",
        "import matplotlib.pyplot as plt\n",
        "\n",
        "import lightgbm as lgb\n",
        "\n",
        "from sklearn.model_selection import StratifiedKFold\n",
        "from sklearn.metrics import roc_auc_score"
      ],
      "metadata": {
        "execution": {
          "iopub.status.busy": "2024-08-05T05:25:31.452108Z",
          "iopub.execute_input": "2024-08-05T05:25:31.452872Z",
          "iopub.status.idle": "2024-08-05T05:25:31.459450Z",
          "shell.execute_reply.started": "2024-08-05T05:25:31.452842Z",
          "shell.execute_reply": "2024-08-05T05:25:31.458517Z"
        },
        "trusted": true,
        "colab": {
          "base_uri": "https://localhost:8080/"
        },
        "id": "iyOJoTHVs6yz",
        "outputId": "8b776cd3-a504-4ed4-cfcf-70e79a327685"
      },
      "execution_count": null,
      "outputs": [
        {
          "output_type": "stream",
          "name": "stderr",
          "text": [
            "/usr/local/lib/python3.10/dist-packages/dask/dataframe/__init__.py:42: FutureWarning: \n",
            "Dask dataframe query planning is disabled because dask-expr is not installed.\n",
            "\n",
            "You can install it with `pip install dask[dataframe]` or `conda install dask`.\n",
            "This will raise in a future version.\n",
            "\n",
            "  warnings.warn(msg, FutureWarning)\n"
          ]
        }
      ]
    },
    {
      "cell_type": "code",
      "source": [
        "def score(solution: np.ndarray, submission: np.ndarray, min_tpr: float=0.80) -> float:\n",
        "    v_gt = abs(solution-1)\n",
        "    v_pred = np.array([1.0 - x for x in submission])\n",
        "    max_fpr = abs(1-min_tpr)\n",
        "    partial_auc_scaled = roc_auc_score(v_gt, v_pred, max_fpr=max_fpr)\n",
        "    # change scale from [0.5, 1.0] to [0.5 * max_fpr**2, max_fpr]\n",
        "    # https://math.stackexchange.com/questions/914823/shift-numbers-into-a-different-range\n",
        "    partial_auc = 0.5 * max_fpr**2 + (max_fpr - 0.5 * max_fpr**2) / (1.0 - 0.5) * (partial_auc_scaled - 0.5)\n",
        "\n",
        "    return(partial_auc)"
      ],
      "metadata": {
        "execution": {
          "iopub.status.busy": "2024-08-05T05:25:31.460690Z",
          "iopub.execute_input": "2024-08-05T05:25:31.460989Z",
          "iopub.status.idle": "2024-08-05T05:25:31.468516Z",
          "shell.execute_reply.started": "2024-08-05T05:25:31.460964Z",
          "shell.execute_reply": "2024-08-05T05:25:31.467645Z"
        },
        "trusted": true,
        "id": "4reFUjk0s6y0"
      },
      "execution_count": null,
      "outputs": []
    },
    {
      "cell_type": "code",
      "source": [
        "train_meta = pl.read_csv('isic2024/train-metadata.csv')\n",
        "test_meta = pl.read_csv('isic2024/test-metadata.csv')"
      ],
      "metadata": {
        "execution": {
          "iopub.status.busy": "2024-08-05T05:25:31.469570Z",
          "iopub.execute_input": "2024-08-05T05:25:31.469817Z",
          "iopub.status.idle": "2024-08-05T05:25:32.143489Z",
          "shell.execute_reply.started": "2024-08-05T05:25:31.469796Z",
          "shell.execute_reply": "2024-08-05T05:25:32.142645Z"
        },
        "trusted": true,
        "id": "TmRxWwEhs6y0"
      },
      "execution_count": null,
      "outputs": []
    },
    {
      "cell_type": "code",
      "source": [
        "train_df = (\n",
        "    train_meta\n",
        "    .select(test_meta.columns + ['target'])\n",
        "    .with_columns(pl.col(pl.String).cast(pl.Categorical))\n",
        ")\n",
        "X = train_df.drop('target').to_pandas()\n",
        "y = train_df.select('target').to_pandas()\n",
        "\n",
        "import pandas as pd\n",
        "resnet_18_pred = pd.read_csv(\"/kaggle/input/resnet18-pred-max/resnet18_pred.csv\")\n",
        "X['resnet_18_pred'] = resnet_18_pred['target']"
      ],
      "metadata": {
        "execution": {
          "iopub.status.busy": "2024-08-05T05:38:40.849052Z",
          "iopub.execute_input": "2024-08-05T05:38:40.849449Z",
          "iopub.status.idle": "2024-08-05T05:38:41.792562Z",
          "shell.execute_reply.started": "2024-08-05T05:38:40.849415Z",
          "shell.execute_reply": "2024-08-05T05:38:41.791558Z"
        },
        "trusted": true,
        "id": "128TrZtqs6y0",
        "outputId": "fa090607-b8dc-48a6-bf6c-9ea48c57edd7"
      },
      "execution_count": null,
      "outputs": [
        {
          "name": "stderr",
          "text": "/tmp/ipykernel_534/2152491735.py:4: CategoricalRemappingWarning: Local categoricals have different encodings, expensive re-encoding is done to perform this merge operation. Consider using a StringCache or an Enum type if the categories are known in advance\n  .with_columns(pl.col(pl.String).cast(pl.Categorical))\n",
          "output_type": "stream"
        }
      ]
    },
    {
      "cell_type": "code",
      "source": [
        "cat_cols = train_df.drop('target').select(pl.col(pl.Categorical)).columns\n",
        "\n",
        "train_df_dataset = lgb.Dataset(\n",
        "    X,\n",
        "    y,\n",
        "    categorical_feature=cat_cols,\n",
        "    free_raw_data=False,\n",
        ")"
      ],
      "metadata": {
        "execution": {
          "iopub.status.busy": "2024-08-05T05:38:46.363871Z",
          "iopub.execute_input": "2024-08-05T05:38:46.364313Z",
          "iopub.status.idle": "2024-08-05T05:38:46.370418Z",
          "shell.execute_reply.started": "2024-08-05T05:38:46.364278Z",
          "shell.execute_reply": "2024-08-05T05:38:46.369379Z"
        },
        "trusted": true,
        "id": "-XaEmaOLs6y0"
      },
      "execution_count": null,
      "outputs": []
    },
    {
      "cell_type": "code",
      "source": [
        "kf = StratifiedKFold()\n",
        "\n",
        "def pauc_80(preds, data):\n",
        "    score_value = score(data.get_label(), preds, min_tpr=0.8)\n",
        "    return 'pauc_80', score_value, True\n",
        "\n",
        "\n",
        "lgb_params = {\n",
        "    'objective': 'binary',\n",
        "    'metric': 'none',\n",
        "    'verbose': -1,\n",
        "    'learning_rate': 0.01,\n",
        "    'num_leaves': 31,\n",
        "    'min_data_in_leaf': 50,\n",
        "    'pos_bagging_fraction': 0.75,\n",
        "    'neg_bagging_fraction': 0.05,\n",
        "    'bagging_freq': 1,\n",
        "    'feature_fraction': 0.7,\n",
        "    'lambda_l1': 0.25,\n",
        "    'lambda_l2': 1.0\n",
        "}\n",
        "\n",
        "cv_results = lgb.cv(\n",
        "    lgb_params,\n",
        "    train_df_dataset,\n",
        "    folds=kf.split(X, y),\n",
        "    feval=pauc_80,\n",
        "    num_boost_round=1000,\n",
        "    callbacks=[\n",
        "        lgb.early_stopping(stopping_rounds=50),\n",
        "        lgb.log_evaluation(20)\n",
        "    ],\n",
        "    stratified=True,\n",
        "    return_cvbooster=True,\n",
        ")"
      ],
      "metadata": {
        "execution": {
          "iopub.status.busy": "2024-08-05T05:38:48.314522Z",
          "iopub.execute_input": "2024-08-05T05:38:48.314927Z",
          "iopub.status.idle": "2024-08-05T05:39:56.144013Z",
          "shell.execute_reply.started": "2024-08-05T05:38:48.314896Z",
          "shell.execute_reply": "2024-08-05T05:39:56.142859Z"
        },
        "trusted": true,
        "id": "Nkph1ejjs6y0",
        "outputId": "dc8cd363-d5b0-48f4-e8ae-cb2ed43fad65"
      },
      "execution_count": null,
      "outputs": [
        {
          "name": "stdout",
          "text": "Training until validation scores don't improve for 50 rounds\n[20]\tcv_agg's valid pauc_80: 0.163981 + 0.0134335\n[40]\tcv_agg's valid pauc_80: 0.167867 + 0.0109358\n[60]\tcv_agg's valid pauc_80: 0.170125 + 0.0095106\n[80]\tcv_agg's valid pauc_80: 0.171475 + 0.00868064\n[100]\tcv_agg's valid pauc_80: 0.172521 + 0.00828191\n[120]\tcv_agg's valid pauc_80: 0.173218 + 0.00780807\n[140]\tcv_agg's valid pauc_80: 0.173226 + 0.00786652\n[160]\tcv_agg's valid pauc_80: 0.173062 + 0.00785856\nEarly stopping, best iteration is:\n[125]\tcv_agg's valid pauc_80: 0.173263 + 0.00786269\n",
          "output_type": "stream"
        }
      ]
    },
    {
      "cell_type": "code",
      "source": [
        "# test_resnet_18_df['resnet_18_pred']"
      ],
      "metadata": {
        "execution": {
          "iopub.status.busy": "2024-08-05T05:26:42.425556Z",
          "iopub.execute_input": "2024-08-05T05:26:42.425902Z",
          "iopub.status.idle": "2024-08-05T05:26:42.430284Z",
          "shell.execute_reply.started": "2024-08-05T05:26:42.425872Z",
          "shell.execute_reply": "2024-08-05T05:26:42.429150Z"
        },
        "trusted": true,
        "id": "MH7WT2u5s6y0"
      },
      "execution_count": null,
      "outputs": []
    },
    {
      "cell_type": "code",
      "source": [
        "boosters = cv_results['cvbooster'].boosters\n",
        "test_df = test_meta.with_columns(pl.col(cat_cols).cast(pl.String).cast(pl.Categorical))\n",
        "test_df = test_df.to_pandas()\n",
        "test_df['resnet_18_pred'] = test_resnet_18_df['resnet_18_pred']\n",
        "pred_per_cv = [b.predict(test_df) for b in boosters]\n",
        "pred_average = np.array(pred_per_cv).mean(axis=0)"
      ],
      "metadata": {
        "execution": {
          "iopub.status.busy": "2024-08-05T05:26:42.431639Z",
          "iopub.execute_input": "2024-08-05T05:26:42.432026Z",
          "iopub.status.idle": "2024-08-05T05:26:43.277264Z",
          "shell.execute_reply.started": "2024-08-05T05:26:42.431999Z",
          "shell.execute_reply": "2024-08-05T05:26:43.276400Z"
        },
        "trusted": true,
        "id": "ParjaiJ6s6y0"
      },
      "execution_count": null,
      "outputs": []
    },
    {
      "cell_type": "code",
      "source": [
        "# print(len(test_df['isic_id'].tolist()), len(pred_average))"
      ],
      "metadata": {
        "execution": {
          "iopub.status.busy": "2024-08-05T05:26:43.278422Z",
          "iopub.execute_input": "2024-08-05T05:26:43.281026Z",
          "iopub.status.idle": "2024-08-05T05:26:43.285443Z",
          "shell.execute_reply.started": "2024-08-05T05:26:43.280998Z",
          "shell.execute_reply": "2024-08-05T05:26:43.284459Z"
        },
        "trusted": true,
        "id": "T8Oao3GGs6y0"
      },
      "execution_count": null,
      "outputs": []
    },
    {
      "cell_type": "code",
      "source": [
        "submission_df = pd.DataFrame({'isic_id':test_df['isic_id'].tolist(), 'target':pred_average})\n",
        "submission_df.to_csv(\"submission.csv\", index=False)\n",
        "submission_df"
      ],
      "metadata": {
        "execution": {
          "iopub.status.busy": "2024-08-05T05:26:43.286656Z",
          "iopub.execute_input": "2024-08-05T05:26:43.286939Z",
          "iopub.status.idle": "2024-08-05T05:26:43.302165Z",
          "shell.execute_reply.started": "2024-08-05T05:26:43.286906Z",
          "shell.execute_reply": "2024-08-05T05:26:43.301144Z"
        },
        "trusted": true,
        "id": "ZON_Jmdzs6y0",
        "outputId": "ce1b3e5f-b903-466c-a630-eedaf9ea174c"
      },
      "execution_count": null,
      "outputs": [
        {
          "execution_count": 106,
          "output_type": "execute_result",
          "data": {
            "text/plain": "        isic_id    target\n0  ISIC_0015657  0.003467\n1  ISIC_0015729  0.000542\n2  ISIC_0015740  0.000729",
            "text/html": "<div>\n<style scoped>\n    .dataframe tbody tr th:only-of-type {\n        vertical-align: middle;\n    }\n\n    .dataframe tbody tr th {\n        vertical-align: top;\n    }\n\n    .dataframe thead th {\n        text-align: right;\n    }\n</style>\n<table border=\"1\" class=\"dataframe\">\n  <thead>\n    <tr style=\"text-align: right;\">\n      <th></th>\n      <th>isic_id</th>\n      <th>target</th>\n    </tr>\n  </thead>\n  <tbody>\n    <tr>\n      <th>0</th>\n      <td>ISIC_0015657</td>\n      <td>0.003467</td>\n    </tr>\n    <tr>\n      <th>1</th>\n      <td>ISIC_0015729</td>\n      <td>0.000542</td>\n    </tr>\n    <tr>\n      <th>2</th>\n      <td>ISIC_0015740</td>\n      <td>0.000729</td>\n    </tr>\n  </tbody>\n</table>\n</div>"
          },
          "metadata": {}
        }
      ]
    },
    {
      "cell_type": "code",
      "source": [],
      "metadata": {
        "trusted": true,
        "id": "PxGcsgJbs6y0"
      },
      "execution_count": null,
      "outputs": []
    }
  ]
}